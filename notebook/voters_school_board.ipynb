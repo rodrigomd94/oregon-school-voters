{
 "cells": [
  {
   "cell_type": "markdown",
   "metadata": {},
   "source": [
    "# Oregon School Boards Voter Data\n",
    "For this project we want to visualize voter data for the Oregon school Boards. The main attributes we want to visualize per district are:\n",
    "  - Voter gender ratio\n",
    "  - Voter ages\n",
    "  - Total amount of voters\n",
    "  - Votes per political party\n",
    "  \n",
    "For this, we will begin by cleaning and processing the data and finish by creating a geojson with all the necessary attributes needed as a base for a Mapbox map (see last cell for the final map).\n",
    "\n",
    "The base datasets that we are using are:\n",
    "  - `voters.csv`: This dataset contains the voter data for each school board, including total and percentage of votes for each political party, average ages, and total number of voters.\n",
    "  - `genders.csv`: This dataset contains the voters' gender percentages for each district.\n",
    "  - `districts.csv`: This dataset contains many attributes but we are interested with the names and GEOID of the districts. This dataset shares the same names of districts as the other datasets, so we will use it to join the GEOID to the other datasets. The GEOID is then used to join all the data into the geojson.\n",
    "  - `s_districts.geojson`: This is a geojson file containing the geometries and GEOID of the school districts. The data originally comes from US Census Bureau TIGER Files. It was previously converted to geojson and projected to the EPSG 4326 CRS in order to be able to visualize it with Mapbox."
   ]
  },
  {
   "cell_type": "markdown",
   "metadata": {},
   "source": [
    "## 1. Formatting the column names\n",
    "We will begin by importing the datasets and exploring the column names of each dataset in order to set them to a useable format. We will remove the percentage signs, turn all letters into lower caps, and change long names into shorter ones to make them easier to work with."
   ]
  },
  {
   "cell_type": "code",
   "execution_count": 1,
   "metadata": {},
   "outputs": [
    {
     "name": "stdout",
     "output_type": "stream",
     "text": [
      "Index(['district', 'fem_prcnt', 'male_prcnt'], dtype='object')\n",
      "Index(['STATEFP', 'ELSDLEA', 'GEOID', 'NAME', 'LSAD', 'LOGRADE', 'HIGRADE',\n",
      "       'MTFCC', 'SDTYP', 'FUNCSTAT', 'ALAND', 'AWATER', 'INTPTLAT', 'INTPTLON',\n",
      "       'UNSDLEA', 'layer', 'path'],\n",
      "      dtype='object')\n",
      "Index(['district', 'avg_age', 'voter_count', 'CONSTITUTION', 'CONSTITUTION_%',\n",
      "       'DEMOCRAT', 'DEMOCRAT_%', 'INDEPENDENT', 'INDEPENDENT_%', 'LIBERTARIAN',\n",
      "       'LIBERTARIAN_%', 'NONAFFILIATED', 'NONAFFILIATED_%', 'OTHER', 'OTHER_%',\n",
      "       'PACIFIC_GREEN', 'PACIFIC_GREEN_%', 'PROGRESSIVE', 'PROGRESSIVE_%',\n",
      "       'REPUBLICAN', 'REPUBLICAN_%', 'WORKING_FAMILIES PARTY_OF_OREGON',\n",
      "       'WORKING_FAMILIES_PARTY_%'],\n",
      "      dtype='object')\n",
      "\n",
      " Formatted columns: \n",
      " Index(['district', 'avg_age', 'voter_count', 'constitution',\n",
      "       'constitution_prcnt', 'democrat', 'democrat_prcnt', 'independent',\n",
      "       'independent_prcnt', 'libertarian', 'libertarian_prcnt',\n",
      "       'nonaffiliated', 'nonaffiliated_prcnt', 'other', 'other_prcnt',\n",
      "       'pacific_green', 'pacific_green_prcnt', 'progressive',\n",
      "       'progressive_prcnt', 'republican', 'republican_prcnt', 'wfp',\n",
      "       'wfp_prcnt'],\n",
      "      dtype='object')\n"
     ]
    }
   ],
   "source": [
    "import pandas as pd\n",
    "import inflection\n",
    "\n",
    "voters = pd.read_csv('voters.csv')\n",
    "districts = pd.read_csv('districts.csv')\n",
    "gender = pd.read_csv('gender.csv')\n",
    "print(gender.columns)\n",
    "print(districts.columns)\n",
    "\n",
    "print(voters.columns)\n",
    "voters.columns = voters.columns.str.replace('%', 'prcnt')\n",
    "voters.columns = voters.columns.str.lower()\n",
    "voters.columns = voters.columns.str.replace('working_families_party', 'wfp')\n",
    "voters.columns = voters.columns.str.replace('working_families party_of_oregon', 'wfp')\n",
    "print(\"\\n Formatted columns: \\n\",voters.columns)"
   ]
  },
  {
   "cell_type": "markdown",
   "metadata": {},
   "source": [
    "We can see that the formatted columns look better and will be easier to work with.\n",
    "\n",
    "## 2. Joining the datasets\n",
    "We will now join the GEOID from the `districts` dataset into the `voters` dataset. Then, we will join the gender data."
   ]
  },
  {
   "cell_type": "code",
   "execution_count": 2,
   "metadata": {},
   "outputs": [
    {
     "data": {
      "text/html": [
       "<div>\n",
       "<style scoped>\n",
       "    .dataframe tbody tr th:only-of-type {\n",
       "        vertical-align: middle;\n",
       "    }\n",
       "\n",
       "    .dataframe tbody tr th {\n",
       "        vertical-align: top;\n",
       "    }\n",
       "\n",
       "    .dataframe thead th {\n",
       "        text-align: right;\n",
       "    }\n",
       "</style>\n",
       "<table border=\"1\" class=\"dataframe\">\n",
       "  <thead>\n",
       "    <tr style=\"text-align: right;\">\n",
       "      <th></th>\n",
       "      <th>district_x</th>\n",
       "      <th>GEOID</th>\n",
       "      <th>fem_prcnt</th>\n",
       "      <th>male_prcnt</th>\n",
       "    </tr>\n",
       "  </thead>\n",
       "  <tbody>\n",
       "    <tr>\n",
       "      <th>0</th>\n",
       "      <td>adel school district 21</td>\n",
       "      <td>4100990</td>\n",
       "      <td>46.77%</td>\n",
       "      <td>53.23%</td>\n",
       "    </tr>\n",
       "    <tr>\n",
       "      <th>1</th>\n",
       "      <td>adrian school district 61</td>\n",
       "      <td>4101020</td>\n",
       "      <td>49.92%</td>\n",
       "      <td>50.08%</td>\n",
       "    </tr>\n",
       "    <tr>\n",
       "      <th>2</th>\n",
       "      <td>alsea school district 7j</td>\n",
       "      <td>4101200</td>\n",
       "      <td>47.86%</td>\n",
       "      <td>52.14%</td>\n",
       "    </tr>\n",
       "    <tr>\n",
       "      <th>3</th>\n",
       "      <td>amity school district 4j</td>\n",
       "      <td>4101230</td>\n",
       "      <td>50.71%</td>\n",
       "      <td>49.29%</td>\n",
       "    </tr>\n",
       "    <tr>\n",
       "      <th>4</th>\n",
       "      <td>annex school district 29</td>\n",
       "      <td>4101350</td>\n",
       "      <td>46.83%</td>\n",
       "      <td>53.17%</td>\n",
       "    </tr>\n",
       "    <tr>\n",
       "      <th>5</th>\n",
       "      <td>arlington school district 3</td>\n",
       "      <td>4101470</td>\n",
       "      <td>46.33%</td>\n",
       "      <td>53.67%</td>\n",
       "    </tr>\n",
       "    <tr>\n",
       "      <th>6</th>\n",
       "      <td>arock school district 81</td>\n",
       "      <td>4101500</td>\n",
       "      <td>50.63%</td>\n",
       "      <td>49.37%</td>\n",
       "    </tr>\n",
       "    <tr>\n",
       "      <th>7</th>\n",
       "      <td>ashland school district 5</td>\n",
       "      <td>4101560</td>\n",
       "      <td>52.90%</td>\n",
       "      <td>47.10%</td>\n",
       "    </tr>\n",
       "    <tr>\n",
       "      <th>8</th>\n",
       "      <td>ashwood school district 8</td>\n",
       "      <td>4101590</td>\n",
       "      <td>51.35%</td>\n",
       "      <td>48.65%</td>\n",
       "    </tr>\n",
       "    <tr>\n",
       "      <th>9</th>\n",
       "      <td>astoria school district 1</td>\n",
       "      <td>4101620</td>\n",
       "      <td>50.33%</td>\n",
       "      <td>49.67%</td>\n",
       "    </tr>\n",
       "  </tbody>\n",
       "</table>\n",
       "</div>"
      ],
      "text/plain": [
       "                    district_x    GEOID fem_prcnt male_prcnt\n",
       "0      adel school district 21  4100990    46.77%     53.23%\n",
       "1    adrian school district 61  4101020    49.92%     50.08%\n",
       "2     alsea school district 7j  4101200    47.86%     52.14%\n",
       "3     amity school district 4j  4101230    50.71%     49.29%\n",
       "4     annex school district 29  4101350    46.83%     53.17%\n",
       "5  arlington school district 3  4101470    46.33%     53.67%\n",
       "6     arock school district 81  4101500    50.63%     49.37%\n",
       "7    ashland school district 5  4101560    52.90%     47.10%\n",
       "8    ashwood school district 8  4101590    51.35%     48.65%\n",
       "9    astoria school district 1  4101620    50.33%     49.67%"
      ]
     },
     "execution_count": 2,
     "metadata": {},
     "output_type": "execute_result"
    }
   ],
   "source": [
    "#converting to lower case to make sure we don't have problems with the join because of differences in caps.\n",
    "districts['NAME']=districts['NAME'].str.lower() \n",
    "gender['district2'] = gender['district'].str.lower()\n",
    "voters['district'] = voters['district'].str.lower()\n",
    "\n",
    "first_join = pd.merge(voters, districts.loc[:,['GEOID','NAME']], left_on='district', right_on='NAME', how='left') #joining GEOID\n",
    "joined = pd.merge(first_join, gender, left_on='district', right_on='district2', how='left') # joining gender data\n",
    "\n",
    "joined[['district_x','GEOID','fem_prcnt','male_prcnt']].head(10) #checking that everything joined correctly"
   ]
  },
  {
   "cell_type": "markdown",
   "metadata": {},
   "source": [
    "### 2.1 Checking the joins\n",
    "We used left joins, so if any district from the `voters` dataset didn't have any corresponding GEOID on the `districts` dataset, we would have `NaN` values on the GEOID column. The same would happen for the gender data if it was unavailable for any district.\n",
    "\n",
    "This means that we can check that the join worked correctly by comparing the length of the columns with the length of those columns without null values."
   ]
  },
  {
   "cell_type": "code",
   "execution_count": 3,
   "metadata": {},
   "outputs": [
    {
     "name": "stdout",
     "output_type": "stream",
     "text": [
      "196\n",
      "196\n"
     ]
    }
   ],
   "source": [
    "print(len(joined['GEOID']))\n",
    "print(len(joined['fem_prcnt']))"
   ]
  },
  {
   "cell_type": "code",
   "execution_count": 4,
   "metadata": {},
   "outputs": [
    {
     "name": "stdout",
     "output_type": "stream",
     "text": [
      "196\n",
      "196\n"
     ]
    }
   ],
   "source": [
    "joined['GEOID'] = joined['GEOID'].dropna()\n",
    "joined['fem_prcnt'] = joined['fem_prcnt'].dropna()\n",
    "\n",
    "print(len(joined['GEOID'])) #checking that there were no null values\n",
    "print(len(joined['fem_prcnt'])) #checking that there were no null values\n"
   ]
  },
  {
   "cell_type": "markdown",
   "metadata": {},
   "source": [
    "We can see that the length is the same for columns after attempting to remove null values. This means that there were no null values, so all values were joined for all districts."
   ]
  },
  {
   "cell_type": "markdown",
   "metadata": {},
   "source": [
    "## 3. Cleaning the data\n",
    "We will now clean the columns by doing the following:\n",
    "  - Remove all Null values in the numeric columns and replace them by 0\n",
    "  - Remove percent signs from the values and transform those columns from object type to float type"
   ]
  },
  {
   "cell_type": "code",
   "execution_count": 5,
   "metadata": {},
   "outputs": [],
   "source": [
    "cleaned = joined.drop(['NAME', 'district_y','district2'], axis=1) #removing duplicate columns that were left after the joins"
   ]
  },
  {
   "cell_type": "code",
   "execution_count": 6,
   "metadata": {},
   "outputs": [
    {
     "name": "stdout",
     "output_type": "stream",
     "text": [
      "district_x              object\n",
      "avg_age                float64\n",
      "voter_count              int64\n",
      "constitution           float64\n",
      "constitution_prcnt      object\n",
      "democrat               float64\n",
      "democrat_prcnt          object\n",
      "independent            float64\n",
      "independent_prcnt       object\n",
      "libertarian            float64\n",
      "libertarian_prcnt       object\n",
      "nonaffiliated            int64\n",
      "nonaffiliated_prcnt     object\n",
      "other                  float64\n",
      "other_prcnt             object\n",
      "pacific_green          float64\n",
      "pacific_green_prcnt     object\n",
      "progressive            float64\n",
      "progressive_prcnt       object\n",
      "republican               int64\n",
      "republican_prcnt        object\n",
      "wfp                    float64\n",
      "wfp_prcnt               object\n",
      "GEOID                    int64\n",
      "fem_prcnt               object\n",
      "male_prcnt              object\n",
      "dtype: object\n"
     ]
    }
   ],
   "source": [
    "cleaned.fillna(0, inplace=True) #Replacing null values by 0\n",
    "cleaned = cleaned.replace({'\\%':''}, regex = True) #removing percent signs\n",
    "print(cleaned.dtypes)\n"
   ]
  },
  {
   "cell_type": "markdown",
   "metadata": {},
   "source": [
    "We can see that there are columns that should be numeric but are of type object because they are still considered as strings."
   ]
  },
  {
   "cell_type": "code",
   "execution_count": 7,
   "metadata": {},
   "outputs": [
    {
     "data": {
      "text/plain": [
       "district_x              object\n",
       "avg_age                float32\n",
       "voter_count            float32\n",
       "constitution           float32\n",
       "constitution_prcnt     float32\n",
       "democrat               float32\n",
       "democrat_prcnt         float32\n",
       "independent            float32\n",
       "independent_prcnt      float32\n",
       "libertarian            float32\n",
       "libertarian_prcnt      float32\n",
       "nonaffiliated          float32\n",
       "nonaffiliated_prcnt    float32\n",
       "other                  float32\n",
       "other_prcnt            float32\n",
       "pacific_green          float32\n",
       "pacific_green_prcnt    float32\n",
       "progressive            float32\n",
       "progressive_prcnt      float32\n",
       "republican             float32\n",
       "republican_prcnt       float32\n",
       "wfp                    float32\n",
       "wfp_prcnt              float32\n",
       "GEOID                    int64\n",
       "fem_prcnt              float32\n",
       "male_prcnt             float32\n",
       "dtype: object"
      ]
     },
     "execution_count": 7,
     "metadata": {},
     "output_type": "execute_result"
    }
   ],
   "source": [
    "not_num = cleaned.columns[(cleaned.columns != 'district_x') & (cleaned.columns != 'GEOID')] #filtering the columns that we don't need to convert to numeric\n",
    "cleaned[not_num]=cleaned[not_num].apply(pd.to_numeric, downcast = 'float') #converting the columns to numeric\n",
    "cleaned.dtypes"
   ]
  },
  {
   "cell_type": "markdown",
   "metadata": {},
   "source": [
    "## 4. Preparing for visualization\n",
    "In order to visualize the voter attributes on the map, we first need to understand how the values are distributed to decide the colors classes that will be assigned in the map.\n",
    "\n",
    "### 4.1. Gender"
   ]
  },
  {
   "cell_type": "code",
   "execution_count": 8,
   "metadata": {
    "scrolled": true
   },
   "outputs": [
    {
     "name": "stdout",
     "output_type": "stream",
     "text": [
      "Females: \n",
      " count    196.000000\n",
      "mean      49.754993\n",
      "std        2.158480\n",
      "min       39.389999\n",
      "25%       49.165000\n",
      "50%       50.065001\n",
      "75%       51.110001\n",
      "max       53.990002\n",
      "Name: fem_prcnt, dtype: float64 \n",
      "\n",
      "Males: \n",
      " count    196.000000\n",
      "mean      50.245056\n",
      "std        2.158477\n",
      "min       46.009998\n",
      "25%       48.889999\n",
      "50%       49.934999\n",
      "75%       50.835000\n",
      "max       60.610001\n",
      "Name: male_prcnt, dtype: float64 \n",
      "\n"
     ]
    }
   ],
   "source": [
    "print(\"Females: \\n\",cleaned['fem_prcnt'].describe(), \"\\n\")\n",
    "print(\"Males: \\n\",cleaned['male_prcnt'].describe(), \"\\n\")\n"
   ]
  },
  {
   "cell_type": "markdown",
   "metadata": {},
   "source": [
    "We see that the percentages of male and females are always very close to 50% without too much variation. So we will have to use a very reduced range of values in the map visualization in order to see the contrast between districts.\n",
    "\n",
    "We can also see that there maximum percentage of voters is higher for males than for females. Since we are only visualizing values above 50% for each dominant gender, the range of values to be visualized for the males `(60.61 - 50 = 10.61)` is wider than the females `(53.99 - 50 = 3.99)`. This means that we will have to use smaller steps for the classes in the female category.\n",
    "\n",
    "### 4.2. Political party\n",
    "First, we will identify the predominant party of each district and the corresponding number and percetage of votes."
   ]
  },
  {
   "cell_type": "code",
   "execution_count": 9,
   "metadata": {
    "scrolled": true
   },
   "outputs": [
    {
     "data": {
      "text/html": [
       "<div>\n",
       "<style scoped>\n",
       "    .dataframe tbody tr th:only-of-type {\n",
       "        vertical-align: middle;\n",
       "    }\n",
       "\n",
       "    .dataframe tbody tr th {\n",
       "        vertical-align: top;\n",
       "    }\n",
       "\n",
       "    .dataframe thead th {\n",
       "        text-align: right;\n",
       "    }\n",
       "</style>\n",
       "<table border=\"1\" class=\"dataframe\">\n",
       "  <thead>\n",
       "    <tr style=\"text-align: right;\">\n",
       "      <th></th>\n",
       "      <th>max_tot</th>\n",
       "      <th>max_prcnt</th>\n",
       "      <th>main_party</th>\n",
       "    </tr>\n",
       "  </thead>\n",
       "  <tbody>\n",
       "    <tr>\n",
       "      <th>count</th>\n",
       "      <td>196.00000</td>\n",
       "      <td>196.000000</td>\n",
       "      <td>196</td>\n",
       "    </tr>\n",
       "    <tr>\n",
       "      <th>unique</th>\n",
       "      <td>NaN</td>\n",
       "      <td>NaN</td>\n",
       "      <td>3</td>\n",
       "    </tr>\n",
       "    <tr>\n",
       "      <th>top</th>\n",
       "      <td>NaN</td>\n",
       "      <td>NaN</td>\n",
       "      <td>Nonaffiliated</td>\n",
       "    </tr>\n",
       "    <tr>\n",
       "      <th>freq</th>\n",
       "      <td>NaN</td>\n",
       "      <td>NaN</td>\n",
       "      <td>92</td>\n",
       "    </tr>\n",
       "    <tr>\n",
       "      <th>mean</th>\n",
       "      <td>6965.44898</td>\n",
       "      <td>41.959643</td>\n",
       "      <td>NaN</td>\n",
       "    </tr>\n",
       "    <tr>\n",
       "      <th>std</th>\n",
       "      <td>21501.80475</td>\n",
       "      <td>8.802307</td>\n",
       "      <td>NaN</td>\n",
       "    </tr>\n",
       "    <tr>\n",
       "      <th>min</th>\n",
       "      <td>13.00000</td>\n",
       "      <td>31.890000</td>\n",
       "      <td>NaN</td>\n",
       "    </tr>\n",
       "    <tr>\n",
       "      <th>25%</th>\n",
       "      <td>480.25000</td>\n",
       "      <td>36.555000</td>\n",
       "      <td>NaN</td>\n",
       "    </tr>\n",
       "    <tr>\n",
       "      <th>50%</th>\n",
       "      <td>1802.50000</td>\n",
       "      <td>39.515000</td>\n",
       "      <td>NaN</td>\n",
       "    </tr>\n",
       "    <tr>\n",
       "      <th>75%</th>\n",
       "      <td>5680.75000</td>\n",
       "      <td>44.390000</td>\n",
       "      <td>NaN</td>\n",
       "    </tr>\n",
       "    <tr>\n",
       "      <th>max</th>\n",
       "      <td>266215.00000</td>\n",
       "      <td>81.250000</td>\n",
       "      <td>NaN</td>\n",
       "    </tr>\n",
       "  </tbody>\n",
       "</table>\n",
       "</div>"
      ],
      "text/plain": [
       "             max_tot   max_prcnt     main_party\n",
       "count      196.00000  196.000000            196\n",
       "unique           NaN         NaN              3\n",
       "top              NaN         NaN  Nonaffiliated\n",
       "freq             NaN         NaN             92\n",
       "mean      6965.44898   41.959643            NaN\n",
       "std      21501.80475    8.802307            NaN\n",
       "min         13.00000   31.890000            NaN\n",
       "25%        480.25000   36.555000            NaN\n",
       "50%       1802.50000   39.515000            NaN\n",
       "75%       5680.75000   44.390000            NaN\n",
       "max     266215.00000   81.250000            NaN"
      ]
     },
     "execution_count": 9,
     "metadata": {},
     "output_type": "execute_result"
    }
   ],
   "source": [
    "#finding predominant party\n",
    "parties = ['constitution', 'democrat', 'independent', 'libertarian', 'nonaffiliated', 'other', 'pacific_green', 'progressive', 'republican', 'wfp']\n",
    "parties_prcnt = [s + \"_prcnt\" for s in parties]\n",
    "cleaned['max_tot'] = cleaned[parties].max(axis=1).apply(round, ndigits=2) # Finding the max votes\n",
    "cleaned['max_prcnt'] = cleaned[parties_prcnt].max(axis=1).apply(round,ndigits=2) # Finding the max percentage\n",
    "cleaned['main_party'] = cleaned[parties].idxmax(axis=1).apply(inflection.humanize) # Saving the predominant party and formatting the text\n",
    "cleaned[['max_tot', 'max_prcnt', 'main_party']].describe(include='all')"
   ]
  },
  {
   "cell_type": "markdown",
   "metadata": {},
   "source": [
    "We can see that there are only 3 dominant parties. Let's see which ones those are:"
   ]
  },
  {
   "cell_type": "code",
   "execution_count": 10,
   "metadata": {},
   "outputs": [
    {
     "name": "stdout",
     "output_type": "stream",
     "text": [
      "['Republican' 'Nonaffiliated' 'Democrat']\n"
     ]
    }
   ],
   "source": [
    "main_parties = cleaned['main_party'].unique()\n",
    "print(main_parties)"
   ]
  },
  {
   "cell_type": "markdown",
   "metadata": {},
   "source": [
    "#### 4.2.1 Party colors\n",
    "We will now attempt to assign colors to each predominant party. This will be more difficult to do directly with Mapbox because we are trying to visualize to attributes:\n",
    "  - `main_party`: The party with the most votes on each district. The colors will be: Blue for Democrats, Red for Republicans, and Yellow for Non-affiliated.\n",
    "  - `max_prcnt`: The percentage of votes for the predominant party. This attribute will define the lightness or darnkess of the colore defined by the main party. The darker the color, the higher the percentage of votes.\n",
    "In order to do this, we will have to add a column to the dataframe, indicating the exact color to use for the map. To define the color we will use HSV codes (Hue, Saturation, Lightness), so that we can define the Hue based on the party and apply a formula to calculate the lightness based on the percentage of votes.\n",
    "\n",
    "The formula for lightness is `f(x) = 130 - 1.33x`, where `x` is the percentage of votes. This was defined by knowing that the range of values to be colored will be from 30 to 60 (very few values are above 60 so the last category will be 60+), and the range of lightness values will be from 50% to 80%. The formula translates the voter percentage into a lightness value."
   ]
  },
  {
   "cell_type": "code",
   "execution_count": 11,
   "metadata": {},
   "outputs": [
    {
     "data": {
      "text/plain": [
       "0      hsl(360,100%,36.035499999999985%)\n",
       "1                 hsl(360,100%,69.0328%)\n",
       "2                 hsl(360,100%,83.8091%)\n",
       "3                  hsl(60,100%,83.4367%)\n",
       "4                  hsl(60,100%,67.4634%)\n",
       "                     ...                \n",
       "191                hsl(60,100%,72.3711%)\n",
       "192      hsl(60,100%,80.25800000000001%)\n",
       "193                hsl(60,100%,75.7493%)\n",
       "194                hsl(360,100%,83.184%)\n",
       "195               hsl(360,100%,78.2896%)\n",
       "Name: party_color, Length: 196, dtype: object"
      ]
     },
     "execution_count": 11,
     "metadata": {},
     "output_type": "execute_result"
    }
   ],
   "source": [
    "lightness =130-1.33*cleaned['max_prcnt'] #function used to calculate color lightness based on party vote percentage\n",
    "cleaned.loc[cleaned['main_party']=='Republican','party_color'] = \"hsl(\"+str(360)+\",\"+str(100)+\"%,\"+lightness.loc[cleaned['main_party']==\"Republican\"].apply(str)+\"%)\" #hue property for coloring the map based on affiliations. 240 = Blue, 360 = red, 60 = yellow\n",
    "cleaned.loc[cleaned['main_party']==\"Democrat\",\"party_color\"] = \"hsl(\"+str(240)+\",\"+str(100)+\"%,\"+lightness.loc[cleaned['main_party']==\"Democrat\"].apply(str)+\"%)\"\n",
    "cleaned.loc[cleaned['main_party']==\"Nonaffiliated\",\"party_color\"] = \"hsl(\"+str(60)+\",\"+str(100)+\"%,\"+lightness.loc[cleaned['main_party']==\"Nonaffiliated\"].apply(str)+\"%)\"\n",
    "\n",
    "cleaned['party_color']"
   ]
  },
  {
   "cell_type": "markdown",
   "metadata": {},
   "source": [
    "### 4.3. Ages\n"
   ]
  },
  {
   "cell_type": "code",
   "execution_count": 12,
   "metadata": {},
   "outputs": [
    {
     "name": "stdout",
     "output_type": "stream",
     "text": [
      "Ages: \n",
      " count    196.000000\n",
      "mean      52.282894\n",
      "std        3.498891\n",
      "min       42.860001\n",
      "25%       49.877501\n",
      "50%       51.910000\n",
      "75%       54.204999\n",
      "max       65.699997\n",
      "Name: avg_age, dtype: float64\n"
     ]
    },
    {
     "data": {
      "image/png": "[encoded data removed]",
      "text/plain": [
       "<Figure size 432x288 with 1 Axes>"
      ]
     },
     "metadata": {
      "needs_background": "light"
     },
     "output_type": "display_data"
    }
   ],
   "source": [
    "import matplotlib.pyplot as plt\n",
    "print(\"Ages: \\n\",cleaned['avg_age'].describe())\n",
    "fig, ax = plt.subplots()\n",
    "counts, bins, patches =ax.hist(cleaned[\"avg_age\"], bins=6)\n",
    "ax.set_xticks(bins)\n",
    "plt.show()"
   ]
  },
  {
   "cell_type": "markdown",
   "metadata": {},
   "source": [
    "We can see that most voters are in the 50 - 55 year range. We wanted 6 classes so the bins are of approximately 3 years."
   ]
  },
  {
   "cell_type": "markdown",
   "metadata": {},
   "source": [
    "## 5. Creating the geoJSON\n",
    "\n",
    "We now want to join all the data from the previous analysis into the geoJSON that contains the geometries for the districts.\n",
    "\n",
    "For this, we will begin by importing the geoJSON into a python dictionary."
   ]
  },
  {
   "cell_type": "code",
   "execution_count": 13,
   "metadata": {},
   "outputs": [
    {
     "name": "stdout",
     "output_type": "stream",
     "text": [
      "<class 'dict'>\n",
      "dict_keys(['type', 'name', 'crs', 'features'])\n",
      "dict_keys(['type', 'properties', 'geometry'])\n",
      "dict_keys(['STATEFP', 'ELSDLEA', 'GEOID', 'NAME', 'LSAD', 'LOGRADE', 'HIGRADE', 'MTFCC', 'SDTYP', 'FUNCSTAT', 'ALAND', 'AWATER', 'INTPTLAT', 'INTPTLON', 'UNSDLEA', 'layer', 'path'])\n"
     ]
    }
   ],
   "source": [
    "import json\n",
    "\n",
    "open_geojson = open('s_districts.geojson')\n",
    "geojson = open_geojson.read()\n",
    "geo_dict = json.loads(geojson)\n",
    "\n",
    "# Checking that the geojson was correctly loaded into a dictionnary:\n",
    "print(type(geo_dict))\n",
    "print(geo_dict.keys())\n",
    "print(geo_dict['features'][0].keys())\n",
    "print(geo_dict['features'][0]['properties'].keys())"
   ]
  },
  {
   "cell_type": "markdown",
   "metadata": {},
   "source": [
    "### 5.1. Joining the Dataframe attributes to the dictionary\n",
    "\n",
    "To join the data from the cleaned dataframe, we will have to iterate over the features in the dictionary and match the GEOID of each feature with the GEOID of the dataframe."
   ]
  },
  {
   "cell_type": "code",
   "execution_count": 14,
   "metadata": {},
   "outputs": [
    {
     "name": "stdout",
     "output_type": "stream",
     "text": [
      "District 'School District Not Defined' is not present in polygons\n",
      "dict_keys(['GEOID', 'NAME', 'path', 'district_x', 'avg_age', 'voter_count', 'constitution', 'constitution_prcnt', 'democrat', 'democrat_prcnt', 'independent', 'independent_prcnt', 'libertarian', 'libertarian_prcnt', 'nonaffiliated', 'nonaffiliated_prcnt', 'other', 'other_prcnt', 'pacific_green', 'pacific_green_prcnt', 'progressive', 'progressive_prcnt', 'republican', 'republican_prcnt', 'wfp', 'wfp_prcnt', 'fem_prcnt', 'male_prcnt', 'max_tot', 'max_prcnt', 'main_party', 'party_color'])\n"
     ]
    }
   ],
   "source": [
    "for index in range(len(geo_dict['features'])):\n",
    "    match = cleaned['GEOID'] == pd.to_numeric(geo_dict['features'][index]['properties']['GEOID'])\n",
    "    keys_to_remove = ['STATEFP', 'ELSDLEA','LSAD', 'LOGRADE', 'HIGRADE', 'MTFCC', 'SDTYP', 'FUNCSTAT', 'ALAND', 'AWATER', 'INTPTLAT', 'INTPTLON', 'UNSDLEA', 'layer']\n",
    "    try:\n",
    "        geo_dict['features'][index]['properties'].update(cleaned.loc[match].to_dict(orient='records')[0])\n",
    "        for key in keys_to_remove: #removing unnecesary fields that came from the original geoJSON\n",
    "            geo_dict['features'][index]['properties'].pop(key)\n",
    "    except IndexError:\n",
    "        print(\"District '\"+geo_dict['features'][index]['properties']['NAME'] + \"' is not present in polygons\")\n",
    "print(geo_dict['features'][0]['properties'].keys())"
   ]
  },
  {
   "cell_type": "code",
   "execution_count": 15,
   "metadata": {},
   "outputs": [],
   "source": [
    "#saving the geojson to an external file. We will use this for the map.\n",
    "# you can check the code for the map at: https://github.com/rodrigomd94/oregon-school-voters\n",
    "\n",
    "with open('districts_final.geojson', 'w') as outfile:\n",
    "    json.dump(geo_dict, outfile)"
   ]
  },
  {
   "cell_type": "markdown",
   "metadata": {},
   "source": [
    "## 6. Creating the map\n",
    "Using the resulting geoJSON, I created a map with different layers corresponding to voters, genders, ages, and affiliations for each district. You can see the code for the map on my github: https://github.com/rodrigomd94/oregon-school-voters"
   ]
  },
  {
   "cell_type": "code",
   "execution_count": 16,
   "metadata": {},
   "outputs": [
    {
     "data": {
      "text/html": [
       "\n",
       "        <iframe\n",
       "            width=\"700\"\n",
       "            height=\"350\"\n",
       "            src=\"https://rodrigomd94.github.io/oregon-school-voters/\"\n",
       "            frameborder=\"0\"\n",
       "            allowfullscreen\n",
       "        ></iframe>\n",
       "        "
      ],
      "text/plain": [
       "<IPython.lib.display.IFrame at 0x2367ad83588>"
      ]
     },
     "execution_count": 16,
     "metadata": {},
     "output_type": "execute_result"
    }
   ],
   "source": [
    "import IPython\n",
    "url = 'https://rodrigomd94.github.io/oregon-school-voters/'\n",
    "IPython.display.IFrame(url, width=700, height=350)"
   ]
  },
  {
   "cell_type": "markdown",
   "metadata": {},
   "source": [
    "## 6. Additional analysis of voters\n"
   ]
  },
  {
   "cell_type": "code",
   "execution_count": 17,
   "metadata": {},
   "outputs": [
    {
     "data": {
      "image/png": "[encoded data removed]",
      "text/plain": [
       "<Figure size 432x288 with 1 Axes>"
      ]
     },
     "metadata": {
      "needs_background": "light"
     },
     "output_type": "display_data"
    }
   ],
   "source": [
    "from numpy import arange\n",
    "num_cols = ['Democrat', 'Republican', 'Nonaffiliated']\n",
    "bar_widths = cleaned['main_party'].value_counts().loc[num_cols].values\n",
    "bar_positions = arange(3) + 1\n",
    "tick_positions = range(1,4)\n",
    "\n",
    "fig, ax = plt.subplots()\n",
    "ax.barh(bar_positions, bar_widths, 0.5)\n",
    "ax.set_yticks(tick_positions)\n",
    "ax.set_yticklabels(num_cols)\n",
    "ax.set_xlabel(\"Number of districts where dominant\")\n",
    "ax.set_ylabel(\"Political parties\")\n",
    "plt.title(\"Won districts per party\")\n",
    "plt.show()"
   ]
  },
  {
   "cell_type": "markdown",
   "metadata": {},
   "source": [
    "Non-affiliated voters have the highest amount of districts where they have the higher percentage of voters, and democrats are in the opposite end."
   ]
  },
  {
   "cell_type": "code",
   "execution_count": 18,
   "metadata": {},
   "outputs": [
    {
     "data": {
      "image/png": "[encoded data removed]",
      "text/plain": [
       "<Figure size 432x288 with 1 Axes>"
      ]
     },
     "metadata": {
      "needs_background": "light"
     },
     "output_type": "display_data"
    }
   ],
   "source": [
    "import statistics\n",
    "from numpy import arange\n",
    "num_cols = ['democrat', 'republican', 'nonaffiliated']\n",
    "bar_widths = sum(cleaned[num_cols].values)\n",
    "bar_positions = arange(3) + 1\n",
    "tick_positions = range(1,4)\n",
    "\n",
    "fig, ax = plt.subplots()\n",
    "ax.barh(bar_positions, bar_widths, 0.5)\n",
    "ax.set_yticks(tick_positions)\n",
    "ax.set_yticklabels(num_cols)\n",
    "ax.set_xlabel(\"Num of votes\")\n",
    "ax.set_ylabel(\"Political parties\")\n",
    "plt.title(\"Votes per party\")\n",
    "plt.show()"
   ]
  },
  {
   "cell_type": "markdown",
   "metadata": {},
   "source": [
    "We can see that Non-affiliated voters have the most amount of votes, as well as the most districts where it's dominant. On the other hand, we can see that Democrats have the second highest amount of votes in total, but have the least amount of districts where it's dominant. This shows that Democrat voters are more concentrated in certain districts. We can see this by looking at the map and comparing the view with total voters with the view with dominant parties.\n",
    "\n",
    "However, there are differences in the amount of voters per district, meaning that some districts with a high total number of voters can have a higher weight in relation to the total amount of votes per party.\n",
    "\n",
    "If we want to avoid this, and we want that all districts have the same weight regarding the number of voters, we need to normalized the data. Normalizing it means that we will divide the number of votes per party of each district by the total amount of voters per district."
   ]
  },
  {
   "cell_type": "code",
   "execution_count": 19,
   "metadata": {},
   "outputs": [
    {
     "data": {
      "image/png": "[encoded data removed]",
      "text/plain": [
       "<Figure size 432x288 with 1 Axes>"
      ]
     },
     "metadata": {
      "needs_background": "light"
     },
     "output_type": "display_data"
    }
   ],
   "source": [
    "from numpy import arange\n",
    "num_cols = ['democrat', 'republican', 'nonaffiliated']\n",
    "normalized = cleaned[num_cols].div(cleaned['voter_count'], axis=0)\n",
    "bar_widths = sum(normalized[num_cols].values)\n",
    "bar_positions = arange(3) + 1\n",
    "tick_positions = range(1,4)\n",
    "\n",
    "fig, ax = plt.subplots()\n",
    "ax.barh(bar_positions, bar_widths, 0.5)\n",
    "ax.set_yticks(tick_positions)\n",
    "ax.set_yticklabels(num_cols)\n",
    "ax.set_xlabel(\"Total normalized votes\")\n",
    "ax.set_ylabel(\"Political parties\")\n",
    "plt.title(\"Normalized votes per party\")\n",
    "plt.show()\n"
   ]
  },
  {
   "cell_type": "markdown",
   "metadata": {},
   "source": [
    "When looking at the total amount of normalized votes, we see that Republicans are on top despite having the lowest amount of total votes. This indicates that Republican voters dominate in districts with a low total number of voters.\n",
    "\n",
    "We can clearly see this on the map when we switch the view from 'Voters' to 'Affiliation': on the east side of Oregon, almost all districts have a dominance of Republican votes but also a low amount of total voters (most <1000 or even <500).\n",
    "\n",
    "There is also a geographical distribution of the votes, as mentioned above, where Republicans dominate on the east side and Non-affiliates on the west side. Democrats seem to be more distributed overall but are only present on the west half of Oregon. \n",
    "The west side of Oregon has also a higher amount of voters than the east side."
   ]
  },
  {
   "cell_type": "markdown",
   "metadata": {
    "scrolled": true
   },
   "source": [
    "## Conclusions (tl;dr)\n",
    "\n",
    "  - Non-affiliated voters dominate in more districts than the other parties, while Democrates dominate in the fewest amount of districts.\n",
    "  - Despite dominating in only a few districts, democrats voters are concentrated in those districts, making it the second party with the highest total voters.\n",
    "  - Republican voters are predominant in districts with a low number of total voters.\n",
    "  - Republicans dominate on the east side of Oregon and Non-affiliates on the west side.\n",
    "  - The gender ratio of voters is very equally distributed but there are, on average, more male voters than female voters per district.\n",
    "  - Most voters are on the age range of 50 - 55 years old."
   ]
  }
 ],
 "metadata": {
  "kernelspec": {
   "display_name": "Python 3",
   "language": "python",
   "name": "python3"
  },
  "language_info": {
   "codemirror_mode": {
    "name": "ipython",
    "version": 3
   },
   "file_extension": ".py",
   "mimetype": "text/x-python",
   "name": "python",
   "nbconvert_exporter": "python",
   "pygments_lexer": "ipython3",
   "version": "3.7.6"
  }
 },
 "nbformat": 4,
 "nbformat_minor": 4
}
